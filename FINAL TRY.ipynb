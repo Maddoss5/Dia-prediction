{
 "cells": [
  {
   "cell_type": "code",
   "execution_count": 1,
   "id": "e9ed2d6c-b1cc-4605-be5c-f0e3172f652b",
   "metadata": {},
   "outputs": [],
   "source": [
    "import torch\n",
    "import torch.nn as nn\n",
    "import pandas as pd\n",
    "import numpy as np"
   ]
  },
  {
   "cell_type": "code",
   "execution_count": 2,
   "id": "67aa5b1d-e1d6-4772-a909-dd020b93535d",
   "metadata": {},
   "outputs": [],
   "source": [
    "data=pd.read_csv(\"diabetes.csv\")"
   ]
  },
  {
   "cell_type": "code",
   "execution_count": 3,
   "id": "eb7a3d9e-cca0-48eb-a260-c5089ab23421",
   "metadata": {},
   "outputs": [],
   "source": [
    "from sklearn.model_selection import train_test_split"
   ]
  },
  {
   "cell_type": "code",
   "execution_count": 4,
   "id": "13297078-62a9-4e01-942d-43cd7eba7c21",
   "metadata": {},
   "outputs": [],
   "source": [
    "X=data.iloc[:,:-1].values\n",
    "Y=data.iloc[:,-1].values"
   ]
  },
  {
   "cell_type": "code",
   "execution_count": 5,
   "id": "2071bd2e-2e7e-4c40-8080-e34ab3f981b2",
   "metadata": {},
   "outputs": [],
   "source": [
    "for i in range(0,len(Y)):\n",
    "    if Y[i]==\"negative\":\n",
    "        Y[i]=0\n",
    "    else :\n",
    "        Y[i]=1"
   ]
  },
  {
   "cell_type": "code",
   "execution_count": null,
   "id": "5b05c07a-b986-4205-8581-a3d40921c8c2",
   "metadata": {},
   "outputs": [],
   "source": []
  },
  {
   "cell_type": "code",
   "execution_count": 6,
   "id": "74eb0017-64bb-4cff-8c0a-6d1e17527db0",
   "metadata": {},
   "outputs": [],
   "source": [
    "X=(X-X.min())/(X.max()-X.min())"
   ]
  },
  {
   "cell_type": "code",
   "execution_count": 7,
   "id": "fc72ce18-a66e-48f6-8594-6c4ad5c46ff0",
   "metadata": {},
   "outputs": [],
   "source": [
    "x_train,x_test,y_train,y_test=train_test_split(X,Y,test_size=0.2,random_state=42)"
   ]
  },
  {
   "cell_type": "code",
   "execution_count": 8,
   "id": "72046c49-05e9-4d71-af77-504de1018af6",
   "metadata": {},
   "outputs": [
    {
     "data": {
      "text/plain": [
       "<torch._C.Generator at 0x1bc18adb250>"
      ]
     },
     "execution_count": 8,
     "metadata": {},
     "output_type": "execute_result"
    }
   ],
   "source": [
    "torch.manual_seed(42)"
   ]
  },
  {
   "cell_type": "code",
   "execution_count": 9,
   "id": "081d3fb3-36e6-405c-ad3c-755c1c24cf5a",
   "metadata": {},
   "outputs": [],
   "source": [
    "y_train=np.array(y_train,dtype=float)"
   ]
  },
  {
   "cell_type": "code",
   "execution_count": 10,
   "id": "50885a38-60c4-4ac2-b905-dac99983cb11",
   "metadata": {},
   "outputs": [],
   "source": [
    "y_test=np.array(y_test,dtype=float)"
   ]
  },
  {
   "cell_type": "code",
   "execution_count": 11,
   "id": "1c382d7b-3075-4990-8d5f-14d7efbd8f16",
   "metadata": {},
   "outputs": [],
   "source": [
    "x_train=torch.tensor(x_train)\n",
    "y_train=torch.tensor(y_train)\n",
    "x_test=torch.tensor(x_test)\n",
    "y_test=torch.tensor(y_test)"
   ]
  },
  {
   "cell_type": "code",
   "execution_count": null,
   "id": "972c9891-6ddc-4e8c-a972-c772b2f3ad43",
   "metadata": {},
   "outputs": [],
   "source": []
  },
  {
   "cell_type": "code",
   "execution_count": 12,
   "id": "821104dd-4421-4b9a-8b28-1f671772b71c",
   "metadata": {},
   "outputs": [
    {
     "data": {
      "text/plain": [
       "torch.Size([614, 7])"
      ]
     },
     "execution_count": 12,
     "metadata": {},
     "output_type": "execute_result"
    }
   ],
   "source": [
    "x_train.shape"
   ]
  },
  {
   "cell_type": "code",
   "execution_count": 13,
   "id": "e28cbb81-56c4-45c5-af60-5b57dce7ab57",
   "metadata": {},
   "outputs": [],
   "source": [
    "h1=nn.Linear(7,8)\n",
    "sigm=nn.ReLU()\n",
    "h2=nn.Linear(8,9)\n",
    "out=nn.Linear(9,1)"
   ]
  },
  {
   "cell_type": "code",
   "execution_count": 14,
   "id": "2b67c0ea-4e5a-4445-9ad8-e3de5f259abe",
   "metadata": {},
   "outputs": [],
   "source": [
    "x_train=x_train.to(torch.float32)"
   ]
  },
  {
   "cell_type": "code",
   "execution_count": 15,
   "id": "59653807-61d9-43a2-86e1-de7c785f10f6",
   "metadata": {},
   "outputs": [
    {
     "data": {
      "text/plain": [
       "torch.Size([614])"
      ]
     },
     "execution_count": 15,
     "metadata": {},
     "output_type": "execute_result"
    }
   ],
   "source": [
    "y_train.shape"
   ]
  },
  {
   "cell_type": "code",
   "execution_count": 16,
   "id": "fff47d23-d629-4a8e-b796-d283be380e49",
   "metadata": {},
   "outputs": [],
   "source": [
    "y_train=y_train.unsqueeze(1)"
   ]
  },
  {
   "cell_type": "code",
   "execution_count": 17,
   "id": "3ef7cace-026b-41af-bb39-d6c6a80493fd",
   "metadata": {},
   "outputs": [
    {
     "data": {
      "text/plain": [
       "torch.Size([614, 1])"
      ]
     },
     "execution_count": 17,
     "metadata": {},
     "output_type": "execute_result"
    }
   ],
   "source": [
    "y_train.shape"
   ]
  },
  {
   "cell_type": "code",
   "execution_count": 18,
   "id": "e5fd63f2-5614-4233-9bf1-f2692925ed4e",
   "metadata": {},
   "outputs": [],
   "source": [
    "y_train=y_train.to(torch.float32)"
   ]
  },
  {
   "cell_type": "code",
   "execution_count": 19,
   "id": "7d29640c-2340-401f-83f8-c842db884d81",
   "metadata": {},
   "outputs": [],
   "source": [
    "x_test=x_test.to(torch.float32)"
   ]
  },
  {
   "cell_type": "code",
   "execution_count": 20,
   "id": "77cfc6b2-60f0-42af-a27a-354184935608",
   "metadata": {},
   "outputs": [],
   "source": [
    "y_test=y_test.to(torch.float32)"
   ]
  },
  {
   "cell_type": "code",
   "execution_count": 21,
   "id": "8dace380-6f61-4aec-a133-909a1f6a6406",
   "metadata": {},
   "outputs": [
    {
     "data": {
      "text/plain": [
       "torch.Size([614, 7])"
      ]
     },
     "execution_count": 21,
     "metadata": {},
     "output_type": "execute_result"
    }
   ],
   "source": [
    "x_train.shape"
   ]
  },
  {
   "cell_type": "code",
   "execution_count": 22,
   "id": "a65d2008-51ed-4f51-8024-02b206b2e5fb",
   "metadata": {},
   "outputs": [],
   "source": [
    "class node(nn.Module):\n",
    "    def __init__(self):\n",
    "        super(node, self).__init__()\n",
    "        self.fc1 = nn.Linear(7, 16)  # Input layer\n",
    "        self.fc2 = nn.Linear(16, 8)  # Hidden layer\n",
    "        self.fc3 = nn.Linear(8, 1)   # Output layer\n",
    "        self.sigm=nn.Sigmoid()\n",
    "\n",
    "    def forward(self, x):\n",
    "        x = torch.relu(self.fc1(x))\n",
    "        x = torch.relu(self.fc2(x))\n",
    "        x = self.sigm(self.fc3(x))\n",
    "        return x\n"
   ]
  },
  {
   "cell_type": "code",
   "execution_count": null,
   "id": "db7b1d11-bb5e-4834-8bad-68e9fa5d53db",
   "metadata": {},
   "outputs": [],
   "source": []
  },
  {
   "cell_type": "code",
   "execution_count": 23,
   "id": "45989cf1-5a9b-4416-a89f-8b02f7f339e4",
   "metadata": {},
   "outputs": [],
   "source": [
    "model = node()\n",
    "criterion = nn.BCELoss()\n",
    "optimizer = torch.optim.Adam(model.parameters(), lr=0.05)"
   ]
  },
  {
   "cell_type": "code",
   "execution_count": null,
   "id": "db70b819-ed58-4fc3-892d-ec75b61befc1",
   "metadata": {},
   "outputs": [],
   "source": []
  },
  {
   "cell_type": "code",
   "execution_count": 24,
   "id": "d431be5c-bdf7-415c-967e-af1273f8ac50",
   "metadata": {},
   "outputs": [
    {
     "name": "stdout",
     "output_type": "stream",
     "text": [
      "Epoch 1/400, Loss: 0.6534\n",
      "Epoch 2/400, Loss: 0.6467\n",
      "Epoch 3/400, Loss: 0.6465\n",
      "Epoch 4/400, Loss: 0.6472\n",
      "Epoch 5/400, Loss: 0.6456\n",
      "Epoch 6/400, Loss: 0.6447\n",
      "Epoch 7/400, Loss: 0.6444\n",
      "Epoch 8/400, Loss: 0.6443\n",
      "Epoch 9/400, Loss: 0.6441\n",
      "Epoch 10/400, Loss: 0.6437\n",
      "Epoch 11/400, Loss: 0.6431\n",
      "Epoch 12/400, Loss: 0.6425\n",
      "Epoch 13/400, Loss: 0.6418\n",
      "Epoch 14/400, Loss: 0.6410\n",
      "Epoch 15/400, Loss: 0.6399\n",
      "Epoch 16/400, Loss: 0.6383\n",
      "Epoch 17/400, Loss: 0.6363\n",
      "Epoch 18/400, Loss: 0.6341\n",
      "Epoch 19/400, Loss: 0.6314\n",
      "Epoch 20/400, Loss: 0.6280\n",
      "Epoch 21/400, Loss: 0.6239\n",
      "Epoch 22/400, Loss: 0.6197\n",
      "Epoch 23/400, Loss: 0.6145\n",
      "Epoch 24/400, Loss: 0.6092\n",
      "Epoch 25/400, Loss: 0.6022\n",
      "Epoch 26/400, Loss: 0.5951\n",
      "Epoch 27/400, Loss: 0.5868\n",
      "Epoch 28/400, Loss: 0.5776\n",
      "Epoch 29/400, Loss: 0.5690\n",
      "Epoch 30/400, Loss: 0.5605\n",
      "Epoch 31/400, Loss: 0.5498\n",
      "Epoch 32/400, Loss: 0.5419\n",
      "Epoch 33/400, Loss: 0.5352\n",
      "Epoch 34/400, Loss: 0.5281\n",
      "Epoch 35/400, Loss: 0.5236\n",
      "Epoch 36/400, Loss: 0.5198\n",
      "Epoch 37/400, Loss: 0.5153\n",
      "Epoch 38/400, Loss: 0.5106\n",
      "Epoch 39/400, Loss: 0.5065\n",
      "Epoch 40/400, Loss: 0.5060\n",
      "Epoch 41/400, Loss: 0.5038\n",
      "Epoch 42/400, Loss: 0.5005\n",
      "Epoch 43/400, Loss: 0.4990\n",
      "Epoch 44/400, Loss: 0.4978\n",
      "Epoch 45/400, Loss: 0.4958\n",
      "Epoch 46/400, Loss: 0.4922\n",
      "Epoch 47/400, Loss: 0.4899\n",
      "Epoch 48/400, Loss: 0.4883\n",
      "Epoch 49/400, Loss: 0.4865\n",
      "Epoch 50/400, Loss: 0.4848\n",
      "Epoch 51/400, Loss: 0.4837\n",
      "Epoch 52/400, Loss: 0.4830\n",
      "Epoch 53/400, Loss: 0.4821\n",
      "Epoch 54/400, Loss: 0.4808\n",
      "Epoch 55/400, Loss: 0.4799\n",
      "Epoch 56/400, Loss: 0.4791\n",
      "Epoch 57/400, Loss: 0.4786\n",
      "Epoch 58/400, Loss: 0.4781\n",
      "Epoch 59/400, Loss: 0.4785\n",
      "Epoch 60/400, Loss: 0.4791\n",
      "Epoch 61/400, Loss: 0.4794\n",
      "Epoch 62/400, Loss: 0.4762\n",
      "Epoch 63/400, Loss: 0.4753\n",
      "Epoch 64/400, Loss: 0.4759\n",
      "Epoch 65/400, Loss: 0.4749\n",
      "Epoch 66/400, Loss: 0.4744\n",
      "Epoch 67/400, Loss: 0.4744\n",
      "Epoch 68/400, Loss: 0.4741\n",
      "Epoch 69/400, Loss: 0.4735\n",
      "Epoch 70/400, Loss: 0.4734\n",
      "Epoch 71/400, Loss: 0.4732\n",
      "Epoch 72/400, Loss: 0.4726\n",
      "Epoch 73/400, Loss: 0.4720\n",
      "Epoch 74/400, Loss: 0.4717\n",
      "Epoch 75/400, Loss: 0.4712\n",
      "Epoch 76/400, Loss: 0.4707\n",
      "Epoch 77/400, Loss: 0.4705\n",
      "Epoch 78/400, Loss: 0.4707\n",
      "Epoch 79/400, Loss: 0.4708\n",
      "Epoch 80/400, Loss: 0.4716\n",
      "Epoch 81/400, Loss: 0.4719\n",
      "Epoch 82/400, Loss: 0.4725\n",
      "Epoch 83/400, Loss: 0.4687\n",
      "Epoch 84/400, Loss: 0.4697\n",
      "Epoch 85/400, Loss: 0.4735\n",
      "Epoch 86/400, Loss: 0.4694\n",
      "Epoch 87/400, Loss: 0.4676\n",
      "Epoch 88/400, Loss: 0.4701\n",
      "Epoch 89/400, Loss: 0.4683\n",
      "Epoch 90/400, Loss: 0.4663\n",
      "Epoch 91/400, Loss: 0.4678\n",
      "Epoch 92/400, Loss: 0.4680\n",
      "Epoch 93/400, Loss: 0.4659\n",
      "Epoch 94/400, Loss: 0.4674\n",
      "Epoch 95/400, Loss: 0.4676\n",
      "Epoch 96/400, Loss: 0.4652\n",
      "Epoch 97/400, Loss: 0.4665\n",
      "Epoch 98/400, Loss: 0.4665\n",
      "Epoch 99/400, Loss: 0.4646\n",
      "Epoch 100/400, Loss: 0.4654\n",
      "Epoch 101/400, Loss: 0.4657\n",
      "Epoch 102/400, Loss: 0.4639\n",
      "Epoch 103/400, Loss: 0.4648\n",
      "Epoch 104/400, Loss: 0.4648\n",
      "Epoch 105/400, Loss: 0.4633\n",
      "Epoch 106/400, Loss: 0.4637\n",
      "Epoch 107/400, Loss: 0.4635\n",
      "Epoch 108/400, Loss: 0.4626\n",
      "Epoch 109/400, Loss: 0.4629\n",
      "Epoch 110/400, Loss: 0.4630\n",
      "Epoch 111/400, Loss: 0.4620\n",
      "Epoch 112/400, Loss: 0.4622\n",
      "Epoch 113/400, Loss: 0.4628\n",
      "Epoch 114/400, Loss: 0.4614\n",
      "Epoch 115/400, Loss: 0.4617\n",
      "Epoch 116/400, Loss: 0.4627\n",
      "Epoch 117/400, Loss: 0.4608\n",
      "Epoch 118/400, Loss: 0.4619\n",
      "Epoch 119/400, Loss: 0.4622\n",
      "Epoch 120/400, Loss: 0.4602\n",
      "Epoch 121/400, Loss: 0.4621\n",
      "Epoch 122/400, Loss: 0.4617\n",
      "Epoch 123/400, Loss: 0.4597\n",
      "Epoch 124/400, Loss: 0.4621\n",
      "Epoch 125/400, Loss: 0.4602\n",
      "Epoch 126/400, Loss: 0.4598\n",
      "Epoch 127/400, Loss: 0.4609\n",
      "Epoch 128/400, Loss: 0.4585\n",
      "Epoch 129/400, Loss: 0.4597\n",
      "Epoch 130/400, Loss: 0.4587\n",
      "Epoch 131/400, Loss: 0.4580\n",
      "Epoch 132/400, Loss: 0.4587\n",
      "Epoch 133/400, Loss: 0.4574\n",
      "Epoch 134/400, Loss: 0.4587\n",
      "Epoch 135/400, Loss: 0.4586\n",
      "Epoch 136/400, Loss: 0.4569\n",
      "Epoch 137/400, Loss: 0.4583\n",
      "Epoch 138/400, Loss: 0.4570\n",
      "Epoch 139/400, Loss: 0.4565\n",
      "Epoch 140/400, Loss: 0.4570\n",
      "Epoch 141/400, Loss: 0.4558\n",
      "Epoch 142/400, Loss: 0.4560\n",
      "Epoch 143/400, Loss: 0.4558\n",
      "Epoch 144/400, Loss: 0.4550\n",
      "Epoch 145/400, Loss: 0.4551\n",
      "Epoch 146/400, Loss: 0.4548\n",
      "Epoch 147/400, Loss: 0.4545\n",
      "Epoch 148/400, Loss: 0.4544\n",
      "Epoch 149/400, Loss: 0.4540\n",
      "Epoch 150/400, Loss: 0.4538\n",
      "Epoch 151/400, Loss: 0.4536\n",
      "Epoch 152/400, Loss: 0.4533\n",
      "Epoch 153/400, Loss: 0.4532\n",
      "Epoch 154/400, Loss: 0.4530\n",
      "Epoch 155/400, Loss: 0.4529\n",
      "Epoch 156/400, Loss: 0.4527\n",
      "Epoch 157/400, Loss: 0.4524\n",
      "Epoch 158/400, Loss: 0.4523\n",
      "Epoch 159/400, Loss: 0.4522\n",
      "Epoch 160/400, Loss: 0.4521\n",
      "Epoch 161/400, Loss: 0.4517\n",
      "Epoch 162/400, Loss: 0.4515\n",
      "Epoch 163/400, Loss: 0.4515\n",
      "Epoch 164/400, Loss: 0.4518\n",
      "Epoch 165/400, Loss: 0.4517\n",
      "Epoch 166/400, Loss: 0.4515\n",
      "Epoch 167/400, Loss: 0.4510\n",
      "Epoch 168/400, Loss: 0.4506\n",
      "Epoch 169/400, Loss: 0.4507\n",
      "Epoch 170/400, Loss: 0.4505\n",
      "Epoch 171/400, Loss: 0.4501\n",
      "Epoch 172/400, Loss: 0.4500\n",
      "Epoch 173/400, Loss: 0.4500\n",
      "Epoch 174/400, Loss: 0.4497\n",
      "Epoch 175/400, Loss: 0.4494\n",
      "Epoch 176/400, Loss: 0.4492\n",
      "Epoch 177/400, Loss: 0.4492\n",
      "Epoch 178/400, Loss: 0.4494\n",
      "Epoch 179/400, Loss: 0.4493\n",
      "Epoch 180/400, Loss: 0.4492\n",
      "Epoch 181/400, Loss: 0.4487\n",
      "Epoch 182/400, Loss: 0.4481\n",
      "Epoch 183/400, Loss: 0.4479\n",
      "Epoch 184/400, Loss: 0.4477\n",
      "Epoch 185/400, Loss: 0.4475\n",
      "Epoch 186/400, Loss: 0.4476\n",
      "Epoch 187/400, Loss: 0.4476\n",
      "Epoch 188/400, Loss: 0.4476\n",
      "Epoch 189/400, Loss: 0.4472\n",
      "Epoch 190/400, Loss: 0.4469\n",
      "Epoch 191/400, Loss: 0.4465\n",
      "Epoch 192/400, Loss: 0.4464\n",
      "Epoch 193/400, Loss: 0.4465\n",
      "Epoch 194/400, Loss: 0.4467\n",
      "Epoch 195/400, Loss: 0.4470\n",
      "Epoch 196/400, Loss: 0.4470\n",
      "Epoch 197/400, Loss: 0.4471\n",
      "Epoch 198/400, Loss: 0.4461\n",
      "Epoch 199/400, Loss: 0.4454\n",
      "Epoch 200/400, Loss: 0.4452\n",
      "Epoch 201/400, Loss: 0.4455\n",
      "Epoch 202/400, Loss: 0.4458\n",
      "Epoch 203/400, Loss: 0.4461\n",
      "Epoch 204/400, Loss: 0.4463\n",
      "Epoch 205/400, Loss: 0.4464\n",
      "Epoch 206/400, Loss: 0.4457\n",
      "Epoch 207/400, Loss: 0.4446\n",
      "Epoch 208/400, Loss: 0.4440\n",
      "Epoch 209/400, Loss: 0.4441\n",
      "Epoch 210/400, Loss: 0.4450\n",
      "Epoch 211/400, Loss: 0.4458\n",
      "Epoch 212/400, Loss: 0.4463\n",
      "Epoch 213/400, Loss: 0.4455\n",
      "Epoch 214/400, Loss: 0.4440\n",
      "Epoch 215/400, Loss: 0.4430\n",
      "Epoch 216/400, Loss: 0.4430\n",
      "Epoch 217/400, Loss: 0.4437\n",
      "Epoch 218/400, Loss: 0.4442\n",
      "Epoch 219/400, Loss: 0.4440\n",
      "Epoch 220/400, Loss: 0.4433\n",
      "Epoch 221/400, Loss: 0.4426\n",
      "Epoch 222/400, Loss: 0.4421\n",
      "Epoch 223/400, Loss: 0.4418\n",
      "Epoch 224/400, Loss: 0.4418\n",
      "Epoch 225/400, Loss: 0.4424\n",
      "Epoch 226/400, Loss: 0.4439\n",
      "Epoch 227/400, Loss: 0.4467\n",
      "Epoch 228/400, Loss: 0.4479\n",
      "Epoch 229/400, Loss: 0.4468\n",
      "Epoch 230/400, Loss: 0.4423\n",
      "Epoch 231/400, Loss: 0.4416\n",
      "Epoch 232/400, Loss: 0.4444\n",
      "Epoch 233/400, Loss: 0.4452\n",
      "Epoch 234/400, Loss: 0.4426\n",
      "Epoch 235/400, Loss: 0.4407\n",
      "Epoch 236/400, Loss: 0.4424\n",
      "Epoch 237/400, Loss: 0.4442\n",
      "Epoch 238/400, Loss: 0.4422\n",
      "Epoch 239/400, Loss: 0.4404\n",
      "Epoch 240/400, Loss: 0.4410\n",
      "Epoch 241/400, Loss: 0.4427\n",
      "Epoch 242/400, Loss: 0.4422\n",
      "Epoch 243/400, Loss: 0.4405\n",
      "Epoch 244/400, Loss: 0.4400\n",
      "Epoch 245/400, Loss: 0.4411\n",
      "Epoch 246/400, Loss: 0.4424\n",
      "Epoch 247/400, Loss: 0.4419\n",
      "Epoch 248/400, Loss: 0.4403\n",
      "Epoch 249/400, Loss: 0.4395\n",
      "Epoch 250/400, Loss: 0.4401\n",
      "Epoch 251/400, Loss: 0.4409\n",
      "Epoch 252/400, Loss: 0.4412\n",
      "Epoch 253/400, Loss: 0.4399\n",
      "Epoch 254/400, Loss: 0.4392\n",
      "Epoch 255/400, Loss: 0.4397\n",
      "Epoch 256/400, Loss: 0.4410\n",
      "Epoch 257/400, Loss: 0.4408\n",
      "Epoch 258/400, Loss: 0.4399\n",
      "Epoch 259/400, Loss: 0.4390\n",
      "Epoch 260/400, Loss: 0.4390\n",
      "Epoch 261/400, Loss: 0.4396\n",
      "Epoch 262/400, Loss: 0.4398\n",
      "Epoch 263/400, Loss: 0.4397\n",
      "Epoch 264/400, Loss: 0.4390\n",
      "Epoch 265/400, Loss: 0.4386\n",
      "Epoch 266/400, Loss: 0.4384\n",
      "Epoch 267/400, Loss: 0.4386\n",
      "Epoch 268/400, Loss: 0.4391\n",
      "Epoch 269/400, Loss: 0.4405\n",
      "Epoch 270/400, Loss: 0.4417\n",
      "Epoch 271/400, Loss: 0.4408\n",
      "Epoch 272/400, Loss: 0.4391\n",
      "Epoch 273/400, Loss: 0.4382\n",
      "Epoch 274/400, Loss: 0.4393\n",
      "Epoch 275/400, Loss: 0.4405\n",
      "Epoch 276/400, Loss: 0.4409\n",
      "Epoch 277/400, Loss: 0.4396\n",
      "Epoch 278/400, Loss: 0.4382\n",
      "Epoch 279/400, Loss: 0.4378\n",
      "Epoch 280/400, Loss: 0.4380\n",
      "Epoch 281/400, Loss: 0.4389\n",
      "Epoch 282/400, Loss: 0.4400\n",
      "Epoch 283/400, Loss: 0.4399\n",
      "Epoch 284/400, Loss: 0.4387\n",
      "Epoch 285/400, Loss: 0.4378\n",
      "Epoch 286/400, Loss: 0.4376\n",
      "Epoch 287/400, Loss: 0.4377\n",
      "Epoch 288/400, Loss: 0.4383\n",
      "Epoch 289/400, Loss: 0.4390\n",
      "Epoch 290/400, Loss: 0.4392\n",
      "Epoch 291/400, Loss: 0.4382\n",
      "Epoch 292/400, Loss: 0.4374\n",
      "Epoch 293/400, Loss: 0.4376\n",
      "Epoch 294/400, Loss: 0.4393\n",
      "Epoch 295/400, Loss: 0.4407\n",
      "Epoch 296/400, Loss: 0.4398\n",
      "Epoch 297/400, Loss: 0.4378\n",
      "Epoch 298/400, Loss: 0.4377\n",
      "Epoch 299/400, Loss: 0.4385\n",
      "Epoch 300/400, Loss: 0.4382\n",
      "Epoch 301/400, Loss: 0.4373\n",
      "Epoch 302/400, Loss: 0.4370\n",
      "Epoch 303/400, Loss: 0.4370\n",
      "Epoch 304/400, Loss: 0.4374\n",
      "Epoch 305/400, Loss: 0.4380\n",
      "Epoch 306/400, Loss: 0.4380\n",
      "Epoch 307/400, Loss: 0.4378\n",
      "Epoch 308/400, Loss: 0.4379\n",
      "Epoch 309/400, Loss: 0.4380\n",
      "Epoch 310/400, Loss: 0.4378\n",
      "Epoch 311/400, Loss: 0.4372\n",
      "Epoch 312/400, Loss: 0.4367\n",
      "Epoch 313/400, Loss: 0.4368\n",
      "Epoch 314/400, Loss: 0.4375\n",
      "Epoch 315/400, Loss: 0.4389\n",
      "Epoch 316/400, Loss: 0.4394\n",
      "Epoch 317/400, Loss: 0.4383\n",
      "Epoch 318/400, Loss: 0.4369\n",
      "Epoch 319/400, Loss: 0.4365\n",
      "Epoch 320/400, Loss: 0.4371\n",
      "Epoch 321/400, Loss: 0.4378\n",
      "Epoch 322/400, Loss: 0.4386\n",
      "Epoch 323/400, Loss: 0.4381\n",
      "Epoch 324/400, Loss: 0.4367\n",
      "Epoch 325/400, Loss: 0.4371\n",
      "Epoch 326/400, Loss: 0.4388\n",
      "Epoch 327/400, Loss: 0.4398\n",
      "Epoch 328/400, Loss: 0.4381\n",
      "Epoch 329/400, Loss: 0.4368\n",
      "Epoch 330/400, Loss: 0.4363\n",
      "Epoch 331/400, Loss: 0.4370\n",
      "Epoch 332/400, Loss: 0.4382\n",
      "Epoch 333/400, Loss: 0.4381\n",
      "Epoch 334/400, Loss: 0.4375\n",
      "Epoch 335/400, Loss: 0.4366\n",
      "Epoch 336/400, Loss: 0.4363\n",
      "Epoch 337/400, Loss: 0.4370\n",
      "Epoch 338/400, Loss: 0.4373\n",
      "Epoch 339/400, Loss: 0.4371\n",
      "Epoch 340/400, Loss: 0.4364\n",
      "Epoch 341/400, Loss: 0.4363\n",
      "Epoch 342/400, Loss: 0.4367\n",
      "Epoch 343/400, Loss: 0.4367\n",
      "Epoch 344/400, Loss: 0.4366\n",
      "Epoch 345/400, Loss: 0.4361\n",
      "Epoch 346/400, Loss: 0.4362\n",
      "Epoch 347/400, Loss: 0.4366\n",
      "Epoch 348/400, Loss: 0.4364\n",
      "Epoch 349/400, Loss: 0.4361\n",
      "Epoch 350/400, Loss: 0.4360\n",
      "Epoch 351/400, Loss: 0.4360\n",
      "Epoch 352/400, Loss: 0.4361\n",
      "Epoch 353/400, Loss: 0.4361\n",
      "Epoch 354/400, Loss: 0.4363\n",
      "Epoch 355/400, Loss: 0.4361\n",
      "Epoch 356/400, Loss: 0.4359\n",
      "Epoch 357/400, Loss: 0.4359\n",
      "Epoch 358/400, Loss: 0.4360\n",
      "Epoch 359/400, Loss: 0.4361\n",
      "Epoch 360/400, Loss: 0.4361\n",
      "Epoch 361/400, Loss: 0.4361\n",
      "Epoch 362/400, Loss: 0.4360\n",
      "Epoch 363/400, Loss: 0.4358\n",
      "Epoch 364/400, Loss: 0.4357\n",
      "Epoch 365/400, Loss: 0.4357\n",
      "Epoch 366/400, Loss: 0.4356\n",
      "Epoch 367/400, Loss: 0.4356\n",
      "Epoch 368/400, Loss: 0.4356\n",
      "Epoch 369/400, Loss: 0.4357\n",
      "Epoch 370/400, Loss: 0.4361\n",
      "Epoch 371/400, Loss: 0.4370\n",
      "Epoch 372/400, Loss: 0.4387\n",
      "Epoch 373/400, Loss: 0.4389\n",
      "Epoch 374/400, Loss: 0.4382\n",
      "Epoch 375/400, Loss: 0.4361\n",
      "Epoch 376/400, Loss: 0.4355\n",
      "Epoch 377/400, Loss: 0.4353\n",
      "Epoch 378/400, Loss: 0.4356\n",
      "Epoch 379/400, Loss: 0.4364\n",
      "Epoch 380/400, Loss: 0.4388\n",
      "Epoch 381/400, Loss: 0.4407\n",
      "Epoch 382/400, Loss: 0.4388\n",
      "Epoch 383/400, Loss: 0.4369\n",
      "Epoch 384/400, Loss: 0.4353\n",
      "Epoch 385/400, Loss: 0.4356\n",
      "Epoch 386/400, Loss: 0.4373\n",
      "Epoch 387/400, Loss: 0.4394\n",
      "Epoch 388/400, Loss: 0.4405\n",
      "Epoch 389/400, Loss: 0.4371\n",
      "Epoch 390/400, Loss: 0.4353\n",
      "Epoch 391/400, Loss: 0.4364\n",
      "Epoch 392/400, Loss: 0.4393\n",
      "Epoch 393/400, Loss: 0.4403\n",
      "Epoch 394/400, Loss: 0.4391\n",
      "Epoch 395/400, Loss: 0.4360\n",
      "Epoch 396/400, Loss: 0.4352\n",
      "Epoch 397/400, Loss: 0.4368\n",
      "Epoch 398/400, Loss: 0.4377\n",
      "Epoch 399/400, Loss: 0.4362\n",
      "Epoch 400/400, Loss: 0.4351\n"
     ]
    }
   ],
   "source": [
    "epochs = 400\n",
    "for epoch in range(epochs):\n",
    "    model.train()\n",
    "    optimizer.zero_grad()\n",
    "    outputs = model(x_train)\n",
    "    loss = criterion(outputs, y_train)\n",
    "    loss.backward()\n",
    "    optimizer.step()\n",
    "    print(f\"Epoch {epoch+1}/{epochs}, Loss: {loss.item():.4f}\")"
   ]
  },
  {
   "cell_type": "code",
   "execution_count": 25,
   "id": "6032c033-b061-422c-a52f-ebd7818fdf5a",
   "metadata": {},
   "outputs": [],
   "source": [
    "test_loss = 0"
   ]
  },
  {
   "cell_type": "code",
   "execution_count": 29,
   "id": "f2b6cf66-1b38-46da-8c79-e158ca372eed",
   "metadata": {},
   "outputs": [],
   "source": [
    "y_test=y_test.unsqueeze(1)"
   ]
  },
  {
   "cell_type": "code",
   "execution_count": 30,
   "id": "31ec265d-93f2-4100-ad26-46e1d0cf5a16",
   "metadata": {},
   "outputs": [
    {
     "data": {
      "text/plain": [
       "torch.Size([154, 1])"
      ]
     },
     "execution_count": 30,
     "metadata": {},
     "output_type": "execute_result"
    }
   ],
   "source": [
    "y_test.shape"
   ]
  },
  {
   "cell_type": "code",
   "execution_count": 31,
   "id": "3d2b6b8f-7f41-4dec-9a60-18a021779130",
   "metadata": {},
   "outputs": [],
   "source": [
    "model.eval()\n",
    "with torch.no_grad():\n",
    "    outputs = model(x_test)\n",
    "    test_loss += criterion(outputs, y_test).item()"
   ]
  },
  {
   "cell_type": "code",
   "execution_count": 33,
   "id": "bd2cccf3-781d-44e0-bd88-4d4b2687b3b8",
   "metadata": {},
   "outputs": [
    {
     "data": {
      "text/plain": [
       "0.003429157780362414"
      ]
     },
     "execution_count": 33,
     "metadata": {},
     "output_type": "execute_result"
    }
   ],
   "source": [
    "test_loss/154"
   ]
  },
  {
   "cell_type": "code",
   "execution_count": null,
   "id": "bbcb0a1d-fda8-4dc9-a8fd-d97f39148a2c",
   "metadata": {},
   "outputs": [],
   "source": [
    "for i in range(0,len(outputs)):\n",
    "    if outputs[i]>=0.5:\n",
    "        outputs[i]=1\n",
    "    else:\n",
    "        outputs[i]=0"
   ]
  },
  {
   "cell_type": "code",
   "execution_count": null,
   "id": "00a14c47-68f7-4535-bba5-853fc52d2a1d",
   "metadata": {},
   "outputs": [],
   "source": [
    "\n",
    "outputs"
   ]
  },
  {
   "cell_type": "code",
   "execution_count": null,
   "id": "64836f29-1bb2-445b-825f-39e72ce31945",
   "metadata": {},
   "outputs": [],
   "source": []
  },
  {
   "cell_type": "code",
   "execution_count": null,
   "id": "548e1c97-c5c0-40ff-b087-e642152e073d",
   "metadata": {
    "scrolled": true
   },
   "outputs": [],
   "source": []
  },
  {
   "cell_type": "code",
   "execution_count": null,
   "id": "8f9e20f1-31a6-4aad-9140-5aa20162195d",
   "metadata": {},
   "outputs": [],
   "source": []
  },
  {
   "cell_type": "code",
   "execution_count": null,
   "id": "28d6b96b-b251-4b83-a5e8-3b28174bacb2",
   "metadata": {},
   "outputs": [],
   "source": []
  },
  {
   "cell_type": "code",
   "execution_count": null,
   "id": "2a5593b5-d455-410d-a9ac-e27583f87149",
   "metadata": {},
   "outputs": [],
   "source": []
  },
  {
   "cell_type": "code",
   "execution_count": null,
   "id": "1d45d63e-c621-4b28-a396-10b941bbbfa3",
   "metadata": {},
   "outputs": [],
   "source": []
  }
 ],
 "metadata": {
  "kernelspec": {
   "display_name": "Python 3 (ipykernel)",
   "language": "python",
   "name": "python3"
  },
  "language_info": {
   "codemirror_mode": {
    "name": "ipython",
    "version": 3
   },
   "file_extension": ".py",
   "mimetype": "text/x-python",
   "name": "python",
   "nbconvert_exporter": "python",
   "pygments_lexer": "ipython3",
   "version": "3.11.7"
  }
 },
 "nbformat": 4,
 "nbformat_minor": 5
}
